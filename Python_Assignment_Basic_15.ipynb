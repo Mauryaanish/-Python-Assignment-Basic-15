{
  "nbformat": 4,
  "nbformat_minor": 0,
  "metadata": {
    "colab": {
      "provenance": []
    },
    "kernelspec": {
      "name": "python3",
      "display_name": "Python 3"
    },
    "language_info": {
      "name": "python"
    }
  },
  "cells": [
    {
      "cell_type": "markdown",
      "source": [
        "##1.How many seconds are in an hour? Use the interactive interpreter as a calculator and multiply the\n",
        "number of seconds in a minute (60) by the number of minutes in an hour (also 60).\n",
        "\n",
        "Answer = seconds_per_hour = 60*60"
      ],
      "metadata": {
        "id": "vRFw7lju5Tn5"
      }
    },
    {
      "cell_type": "code",
      "source": [
        " ## 2. Assign the result from the previous task (seconds in an hour) to a variable called\n",
        " ## seconds_per_hour.\n",
        " seconds_per_hour = 3600"
      ],
      "metadata": {
        "id": "Q7fopACK6DUp"
      },
      "execution_count": 1,
      "outputs": []
    },
    {
      "cell_type": "code",
      "source": [
        "##3. How many seconds do you think there are in a day? Make use of the variables seconds per hour\n",
        "##and minutes per hour.\n",
        " \n",
        "seconds_per_day = seconds_per_hour *24\n",
        "\n",
        "print(seconds_per_day)\n"
      ],
      "metadata": {
        "colab": {
          "base_uri": "https://localhost:8080/"
        },
        "id": "8s48NMNu52qU",
        "outputId": "fb0a02fb-0246-4ad5-9b1e-f23c5e8c7531"
      },
      "execution_count": 3,
      "outputs": [
        {
          "output_type": "stream",
          "name": "stdout",
          "text": [
            "86400\n"
          ]
        }
      ]
    },
    {
      "cell_type": "code",
      "source": [
        "## 4. Calculate seconds per day again, but this time save the result in a variable called seconds_per_day\n",
        "\n",
        "seconds_per_day = seconds_per_hour *24\n",
        "\n",
        "print(seconds_per_day)\n",
        "\n",
        "\n"
      ],
      "metadata": {
        "colab": {
          "base_uri": "https://localhost:8080/"
        },
        "id": "L1B8qW7y6Qks",
        "outputId": "b0d6cc63-12b9-4bae-993b-22da70706fd1"
      },
      "execution_count": 4,
      "outputs": [
        {
          "output_type": "stream",
          "name": "stdout",
          "text": [
            "86400\n"
          ]
        }
      ]
    },
    {
      "cell_type": "code",
      "source": [
        "## 5. Divide seconds_per_day by seconds_per_hour. Use floating-point (/) division.\n",
        "\n",
        "division = seconds_per_day / seconds_per_hour\n",
        "\n",
        "print(division)"
      ],
      "metadata": {
        "colab": {
          "base_uri": "https://localhost:8080/"
        },
        "id": "6NJElQwB6nwU",
        "outputId": "91ca9d1d-4fde-4309-bbe0-03093d298489"
      },
      "execution_count": 6,
      "outputs": [
        {
          "output_type": "stream",
          "name": "stdout",
          "text": [
            "24.0\n"
          ]
        }
      ]
    },
    {
      "cell_type": "code",
      "source": [
        "## Divide seconds_per_day by seconds_per_hour, using integer (//) division. Did this number agree\n",
        "## with the floating-point value from the previous question, aside from the final .0?\n",
        "\n",
        "division = seconds_per_day // seconds_per_hour\n",
        "\n",
        "print(division)\n",
        "\n"
      ],
      "metadata": {
        "colab": {
          "base_uri": "https://localhost:8080/"
        },
        "id": "JEo-xSab64s9",
        "outputId": "cff026fe-6cf1-4e89-e5f4-289bddb85d80"
      },
      "execution_count": 7,
      "outputs": [
        {
          "output_type": "stream",
          "name": "stdout",
          "text": [
            "24\n"
          ]
        }
      ]
    },
    {
      "cell_type": "code",
      "source": [
        "##7. Write a generator, genPrimes, that returns the sequence of prime numbers on successive calls to\n",
        "##its next() method: 2, 3, 5, 7, 11,\n",
        "\n",
        "l = [2,3,5,7,11]\n",
        "\n",
        "l1 = iter(l)"
      ],
      "metadata": {
        "id": "qw-qsz5m7KWs"
      },
      "execution_count": 8,
      "outputs": []
    },
    {
      "cell_type": "code",
      "source": [
        "next(l1)"
      ],
      "metadata": {
        "colab": {
          "base_uri": "https://localhost:8080/"
        },
        "id": "JkBSs3_B7cDc",
        "outputId": "1c117b8c-7961-4b57-9d1e-01187d6c7171"
      },
      "execution_count": 11,
      "outputs": [
        {
          "output_type": "execute_result",
          "data": {
            "text/plain": [
              "3"
            ]
          },
          "metadata": {},
          "execution_count": 11
        }
      ]
    },
    {
      "cell_type": "code",
      "source": [],
      "metadata": {
        "id": "H94StWvR7eL0"
      },
      "execution_count": 10,
      "outputs": []
    }
  ]
}